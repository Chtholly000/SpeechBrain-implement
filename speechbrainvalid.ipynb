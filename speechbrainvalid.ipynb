{
  "cells": [
    {
      "cell_type": "markdown",
      "metadata": {
        "id": "view-in-github",
        "colab_type": "text"
      },
      "source": [
        "<a href=\"https://colab.research.google.com/github/Chtholly000/SpeechBrain-implement/blob/main/speechbrainvalid.ipynb\" target=\"_parent\"><img src=\"https://colab.research.google.com/assets/colab-badge.svg\" alt=\"Open In Colab\"/></a>"
      ]
    },
    {
      "cell_type": "code",
      "execution_count": null,
      "metadata": {
        "colab": {
          "base_uri": "https://localhost:8080/"
        },
        "id": "tM-S_ByLM6mo",
        "outputId": "198f8b93-7b99-44e7-c91f-c6eb8ba16af3"
      },
      "outputs": [
        {
          "name": "stdout",
          "output_type": "stream",
          "text": [
            "\u001b[2K   \u001b[90m━━━━━━━━━━━━━━━━━━━━━━━━━━━━━━━━━━━━━━━━\u001b[0m \u001b[32m864.1/864.1 kB\u001b[0m \u001b[31m9.2 MB/s\u001b[0m eta \u001b[36m0:00:00\u001b[0m\n",
            "\u001b[2K   \u001b[90m━━━━━━━━━━━━━━━━━━━━━━━━━━━━━━━━━━━━━━━━\u001b[0m \u001b[32m118.6/118.6 kB\u001b[0m \u001b[31m6.0 MB/s\u001b[0m eta \u001b[36m0:00:00\u001b[0m\n",
            "\u001b[2K   \u001b[90m━━━━━━━━━━━━━━━━━━━━━━━━━━━━━━━━━━━━━━━━\u001b[0m \u001b[32m363.4/363.4 MB\u001b[0m \u001b[31m3.9 MB/s\u001b[0m eta \u001b[36m0:00:00\u001b[0m\n",
            "\u001b[2K   \u001b[90m━━━━━━━━━━━━━━━━━━━━━━━━━━━━━━━━━━━━━━━━\u001b[0m \u001b[32m13.8/13.8 MB\u001b[0m \u001b[31m101.2 MB/s\u001b[0m eta \u001b[36m0:00:00\u001b[0m\n",
            "\u001b[2K   \u001b[90m━━━━━━━━━━━━━━━━━━━━━━━━━━━━━━━━━━━━━━━━\u001b[0m \u001b[32m24.6/24.6 MB\u001b[0m \u001b[31m74.5 MB/s\u001b[0m eta \u001b[36m0:00:00\u001b[0m\n",
            "\u001b[2K   \u001b[90m━━━━━━━━━━━━━━━━━━━━━━━━━━━━━━━━━━━━━━━━\u001b[0m \u001b[32m883.7/883.7 kB\u001b[0m \u001b[31m31.3 MB/s\u001b[0m eta \u001b[36m0:00:00\u001b[0m\n",
            "\u001b[2K   \u001b[90m━━━━━━━━━━━━━━━━━━━━━━━━━━━━━━━━━━━━━━━━\u001b[0m \u001b[32m664.8/664.8 MB\u001b[0m \u001b[31m1.0 MB/s\u001b[0m eta \u001b[36m0:00:00\u001b[0m\n",
            "\u001b[2K   \u001b[90m━━━━━━━━━━━━━━━━━━━━━━━━━━━━━━━━━━━━━━━━\u001b[0m \u001b[32m211.5/211.5 MB\u001b[0m \u001b[31m5.6 MB/s\u001b[0m eta \u001b[36m0:00:00\u001b[0m\n",
            "\u001b[2K   \u001b[90m━━━━━━━━━━━━━━━━━━━━━━━━━━━━━━━━━━━━━━━━\u001b[0m \u001b[32m56.3/56.3 MB\u001b[0m \u001b[31m12.3 MB/s\u001b[0m eta \u001b[36m0:00:00\u001b[0m\n",
            "\u001b[2K   \u001b[90m━━━━━━━━━━━━━━━━━━━━━━━━━━━━━━━━━━━━━━━━\u001b[0m \u001b[32m127.9/127.9 MB\u001b[0m \u001b[31m7.3 MB/s\u001b[0m eta \u001b[36m0:00:00\u001b[0m\n",
            "\u001b[2K   \u001b[90m━━━━━━━━━━━━━━━━━━━━━━━━━━━━━━━━━━━━━━━━\u001b[0m \u001b[32m207.5/207.5 MB\u001b[0m \u001b[31m5.6 MB/s\u001b[0m eta \u001b[36m0:00:00\u001b[0m\n",
            "\u001b[2K   \u001b[90m━━━━━━━━━━━━━━━━━━━━━━━━━━━━━━━━━━━━━━━━\u001b[0m \u001b[32m21.1/21.1 MB\u001b[0m \u001b[31m80.5 MB/s\u001b[0m eta \u001b[36m0:00:00\u001b[0m\n",
            "\u001b[2K   \u001b[90m━━━━━━━━━━━━━━━━━━━━━━━━━━━━━━━━━━━━━━━━\u001b[0m \u001b[32m739.1/739.1 kB\u001b[0m \u001b[31m37.8 MB/s\u001b[0m eta \u001b[36m0:00:00\u001b[0m\n",
            "\u001b[?25h"
          ]
        }
      ],
      "source": [
        "# ==============================================================\n",
        "# 0. Install SpeechBrain & helpers (quietly)\n",
        "# ==============================================================\n",
        "\n",
        "!pip install -q speechbrain pandas scikit-learn hyperpyyaml tqdm\n"
      ]
    },
    {
      "cell_type": "code",
      "execution_count": null,
      "metadata": {
        "id": "kYqr7HruNQ3m"
      },
      "outputs": [],
      "source": [
        "# ==============================================================\n",
        "# 1. Download Mini-LibriSpeech tutorial + dev-clean subset\n",
        "# ==============================================================\n",
        "\n",
        "!wget -q https://www.dropbox.com/s/b61lo6gkpuplanq/MiniLibriSpeechTutorial.tar.gz?dl=0 -O MiniLibriSpeechTutorial.tar.gz\n",
        "!tar -xzf MiniLibriSpeechTutorial.tar.gz            # gives ./MiniLibriSpeechTutorial/\n",
        "\n",
        "!wget -q https://www.openslr.org/resources/31/dev-clean-2.tar.gz\n",
        "!tar -xzf dev-clean-2.tar.gz                        # gives ./LibriSpeech/dev-clean-2/\n"
      ]
    },
    {
      "cell_type": "code",
      "execution_count": null,
      "metadata": {
        "colab": {
          "base_uri": "https://localhost:8080/"
        },
        "id": "bboTw2tPNVcv",
        "outputId": "18d7c38a-e8b7-4ebd-de9d-145e60148ae0"
      },
      "outputs": [
        {
          "name": "stdout",
          "output_type": "stream",
          "text": [
            "First record: {'id': '8842-304647-0013', 'file_path': './LibriSpeech/dev-clean-2/8842/304647/8842-304647-0013.flac', 'words': 'THOU LIKE ARCTURUS STEADFAST IN THE SKIES WITH TARDY SENSE GUIDEST THY KINGDOM FAIR BEARING ALONE THE LOAD OF LIBERTY', 'spkID': 'speaker_8842', 'length': 142000}\n"
          ]
        }
      ],
      "source": [
        "# ==============================================================\n",
        "# 2. Parse corpus into a single JSON annotation file\n",
        "# ==============================================================\n",
        "\n",
        "# ------------------------------------------------------------------\n",
        "# Read the JSON and show the first item, no matter the structure\n",
        "# ------------------------------------------------------------------\n",
        "import json, itertools\n",
        "\n",
        "with open(OUT_JSON) as f:\n",
        "    data = json.load(f)\n",
        "\n",
        "if isinstance(data, list):\n",
        "    # Already a list of dicts\n",
        "    first_rec = data[0]\n",
        "elif isinstance(data, dict):\n",
        "    # Dict keyed by utterance IDs → pick first key/value pair\n",
        "    first_key = next(iter(data))\n",
        "    first_rec = {\"id\": first_key, **data[first_key]}\n",
        "    # If you plan to use pandas / sklearn, convert to list now:\n",
        "    data_list = [{\"id\": k, **v} for k, v in data.items()]\n",
        "else:\n",
        "    raise TypeError(f\"Unexpected JSON root type: {type(data)}\")\n",
        "\n",
        "print(\"First record:\", first_rec)\n",
        "\n",
        "\n"
      ]
    },
    {
      "cell_type": "code",
      "execution_count": null,
      "metadata": {
        "colab": {
          "base_uri": "https://localhost:8080/"
        },
        "id": "V7cZ6_OMNbYL",
        "outputId": "7ad09f3e-75e0-4cbf-cea5-09ce29ac9a49"
      },
      "outputs": [
        {
          "name": "stdout",
          "output_type": "stream",
          "text": [
            "✅ Split created → train.json (980)  valid.json (109)\n"
          ]
        }
      ],
      "source": [
        "# ==============================================================\n",
        "# 3. Split into train / valid JSONs  (dict format for SpeechBrain)\n",
        "# ==============================================================\n",
        "\n",
        "import json\n",
        "from sklearn.model_selection import train_test_split\n",
        "\n",
        "VALID_FRACTION = 0.10\n",
        "RANDOM_STATE   = 42\n",
        "\n",
        "# 1️ load the ORIGINAL dict produced by parse_to_json\n",
        "with open(OUT_JSON) as f:\n",
        "    full_dict = json.load(f)            # {utt_id: {...}, ...}\n",
        "\n",
        "utt_ids = list(full_dict.keys())\n",
        "\n",
        "# 2️ speaker‑level stratification if tag exists\n",
        "spk_labels = [full_dict[u].get(\"speaker_id\") for u in utt_ids]\n",
        "stratify   = spk_labels if None not in spk_labels else None\n",
        "\n",
        "train_ids, valid_ids = train_test_split(\n",
        "    utt_ids,\n",
        "    test_size    = VALID_FRACTION,\n",
        "    random_state = RANDOM_STATE,\n",
        "    stratify     = stratify,\n",
        ")\n",
        "\n",
        "# 3️ build dicts for each split\n",
        "train_dict = {u: full_dict[u] for u in train_ids}\n",
        "valid_dict = {u: full_dict[u] for u in valid_ids}\n",
        "\n",
        "# 4️ save\n",
        "json.dump(train_dict, open(\"train.json\", \"w\"), indent=2)\n",
        "json.dump(valid_dict, open(\"valid.json\", \"w\"), indent=2)\n",
        "print(f\"✅ Split created → train.json ({len(train_dict)})  valid.json ({len(valid_dict)})\")\n"
      ]
    },
    {
      "cell_type": "code",
      "execution_count": null,
      "metadata": {
        "colab": {
          "base_uri": "https://localhost:8080/"
        },
        "id": "d5g2cILpNe-n",
        "outputId": "7a2f8943-dd3c-4be9-d7b3-af0da57a1db5"
      },
      "outputs": [
        {
          "name": "stdout",
          "output_type": "stream",
          "text": [
            "\n",
            "🧪  Sample train utterance:\n",
            "audio : ./LibriSpeech/dev-clean-2/2428/83699/2428-83699-0019.flac\n",
            "shape : torch.Size([78560])\n",
            "text  : THERE WAS A TRAP AT THE BOY AND BLUNDERBUSS BUT THAT REQUIRED FETCHING\n"
          ]
        }
      ],
      "source": [
        "# ==============================================================\n",
        "# 4. Build DynamicItemDatasets with an audio pipeline\n",
        "# ==============================================================\n",
        "\n",
        "import speechbrain as sb\n",
        "from speechbrain.dataio.dataset import DynamicItemDataset\n",
        "from speechbrain.dataio.dataio  import read_audio\n",
        "\n",
        "# --------------------------------------------------------------\n",
        "# ⛳  SET THESE to match your keys\n",
        "# --------------------------------------------------------------\n",
        "AUDIO_KEY = \"file_path\"   # audio path\n",
        "TEXT_KEY  = \"words\"       # transcript (unused in speaker‑ID task)\n",
        "SPK_KEY   = \"spkID\"       # speaker label\n",
        "\n",
        "\n",
        "@sb.utils.data_pipeline.takes(AUDIO_KEY)\n",
        "@sb.utils.data_pipeline.provides(\"signal\")\n",
        "def audio_pipeline(path):\n",
        "    return read_audio(path)\n",
        "\n",
        "train_data = DynamicItemDataset.from_json(\"train.json\")\n",
        "train_data.add_dynamic_item(audio_pipeline)\n",
        "train_data.set_output_keys([\"signal\", AUDIO_KEY, TEXT_KEY])\n",
        "\n",
        "valid_data = DynamicItemDataset.from_json(\"valid.json\")\n",
        "valid_data.add_dynamic_item(audio_pipeline)\n",
        "valid_data.set_output_keys([\"signal\", AUDIO_KEY, TEXT_KEY])\n",
        "\n",
        "# sanity check\n",
        "print(\"\\n🧪  Sample train utterance:\")\n",
        "ex = train_data[0]\n",
        "print(\"audio :\", ex[AUDIO_KEY])\n",
        "print(\"shape :\", ex[\"signal\"].shape)\n",
        "print(\"text  :\", ex[TEXT_KEY])\n"
      ]
    },
    {
      "cell_type": "code",
      "execution_count": null,
      "metadata": {
        "colab": {
          "base_uri": "https://localhost:8080/",
          "height": 1000
        },
        "id": "zZuAReRpSvOn",
        "outputId": "355ac788-b651-4eaa-86c6-beab71921c53"
      },
      "outputs": [
        {
          "output_type": "stream",
          "name": "stderr",
          "text": [
            "INFO:speechbrain.core:Gradscaler enabled: `False`\n",
            "INFO:speechbrain.core:Using training precision: `--precision=fp32`\n",
            "INFO:speechbrain.core:Using evaluation precision: `--eval_precision=fp32`\n",
            "INFO:speechbrain.core:SimpleBrain Model Statistics:\n",
            "* Total Number of Trainable Parameters: 23.8k\n",
            "* Total Number of Parameters: 23.8k\n",
            "* Trainable Parameters represent 100.0000% of the total size.\n",
            "100%|██████████| 61/61 [00:52<00:00,  1.15it/s, train_loss=4.09]\n",
            "100%|██████████| 7/7 [00:02<00:00,  3.37it/s]\n"
          ]
        },
        {
          "output_type": "stream",
          "name": "stdout",
          "text": [
            "Epoch 0 — valid loss: 2.9311\n"
          ]
        },
        {
          "output_type": "stream",
          "name": "stderr",
          "text": [
            "100%|██████████| 61/61 [00:57<00:00,  1.06it/s, train_loss=2.93]\n",
            "100%|██████████| 7/7 [00:02<00:00,  3.31it/s]\n"
          ]
        },
        {
          "output_type": "stream",
          "name": "stdout",
          "text": [
            "Epoch 1 — valid loss: 2.0859\n"
          ]
        },
        {
          "output_type": "stream",
          "name": "stderr",
          "text": [
            "100%|██████████| 61/61 [00:54<00:00,  1.12it/s, train_loss=2.19]\n",
            "100%|██████████| 7/7 [00:01<00:00,  3.57it/s]\n"
          ]
        },
        {
          "output_type": "stream",
          "name": "stdout",
          "text": [
            "Epoch 2 — valid loss: 1.6141\n"
          ]
        },
        {
          "output_type": "stream",
          "name": "stderr",
          "text": [
            "100%|██████████| 61/61 [00:54<00:00,  1.11it/s, train_loss=1.72]\n",
            "100%|██████████| 7/7 [00:02<00:00,  2.55it/s]\n"
          ]
        },
        {
          "output_type": "stream",
          "name": "stdout",
          "text": [
            "Epoch 3 — valid loss: 1.3769\n"
          ]
        },
        {
          "output_type": "stream",
          "name": "stderr",
          "text": [
            "100%|██████████| 61/61 [00:54<00:00,  1.13it/s, train_loss=1.34]\n",
            "100%|██████████| 7/7 [00:02<00:00,  3.39it/s]\n"
          ]
        },
        {
          "output_type": "stream",
          "name": "stdout",
          "text": [
            "Epoch 4 — valid loss: 0.9645\n"
          ]
        },
        {
          "output_type": "stream",
          "name": "stderr",
          "text": [
            "100%|██████████| 61/61 [00:54<00:00,  1.12it/s, train_loss=1.06]\n",
            "100%|██████████| 7/7 [00:02<00:00,  3.48it/s]\n"
          ]
        },
        {
          "output_type": "stream",
          "name": "stdout",
          "text": [
            "Epoch 5 — valid loss: 0.9357\n"
          ]
        },
        {
          "output_type": "stream",
          "name": "stderr",
          "text": [
            "100%|██████████| 61/61 [00:57<00:00,  1.07it/s, train_loss=0.879]\n",
            "100%|██████████| 7/7 [00:01<00:00,  3.54it/s]\n"
          ]
        },
        {
          "output_type": "stream",
          "name": "stdout",
          "text": [
            "Epoch 6 — valid loss: 0.6858\n"
          ]
        },
        {
          "output_type": "stream",
          "name": "stderr",
          "text": [
            "100%|██████████| 61/61 [00:55<00:00,  1.09it/s, train_loss=0.703]\n",
            "100%|██████████| 7/7 [00:02<00:00,  2.96it/s]\n"
          ]
        },
        {
          "output_type": "stream",
          "name": "stdout",
          "text": [
            "Epoch 7 — valid loss: 0.6216\n"
          ]
        },
        {
          "output_type": "stream",
          "name": "stderr",
          "text": [
            "100%|██████████| 61/61 [00:58<00:00,  1.05it/s, train_loss=0.54]\n",
            "100%|██████████| 7/7 [00:02<00:00,  3.46it/s]\n"
          ]
        },
        {
          "output_type": "stream",
          "name": "stdout",
          "text": [
            "Epoch 8 — valid loss: 0.4662\n"
          ]
        },
        {
          "output_type": "stream",
          "name": "stderr",
          "text": [
            "100%|██████████| 61/61 [00:57<00:00,  1.06it/s, train_loss=0.444]\n",
            "100%|██████████| 7/7 [00:02<00:00,  3.21it/s]\n"
          ]
        },
        {
          "output_type": "stream",
          "name": "stdout",
          "text": [
            "Epoch 9 — valid loss: 0.3418\n"
          ]
        },
        {
          "output_type": "stream",
          "name": "stderr",
          "text": [
            "100%|██████████| 61/61 [00:54<00:00,  1.13it/s, train_loss=0.37]\n",
            "100%|██████████| 7/7 [00:02<00:00,  3.34it/s]\n"
          ]
        },
        {
          "output_type": "stream",
          "name": "stdout",
          "text": [
            "Epoch 10 — valid loss: 0.5133\n"
          ]
        },
        {
          "output_type": "stream",
          "name": "stderr",
          "text": [
            "100%|██████████| 61/61 [00:54<00:00,  1.12it/s, train_loss=0.308]\n",
            "100%|██████████| 7/7 [00:02<00:00,  2.63it/s]\n"
          ]
        },
        {
          "output_type": "stream",
          "name": "stdout",
          "text": [
            "Epoch 11 — valid loss: 0.3006\n"
          ]
        },
        {
          "output_type": "stream",
          "name": "stderr",
          "text": [
            "100%|██████████| 61/61 [00:57<00:00,  1.07it/s, train_loss=0.24]\n",
            "100%|██████████| 7/7 [00:02<00:00,  3.28it/s]\n"
          ]
        },
        {
          "output_type": "stream",
          "name": "stdout",
          "text": [
            "Epoch 12 — valid loss: 0.2924\n"
          ]
        },
        {
          "output_type": "stream",
          "name": "stderr",
          "text": [
            "100%|██████████| 61/61 [00:54<00:00,  1.11it/s, train_loss=0.196]\n",
            "100%|██████████| 7/7 [00:02<00:00,  2.41it/s]\n"
          ]
        },
        {
          "output_type": "stream",
          "name": "stdout",
          "text": [
            "Epoch 13 — valid loss: 0.2219\n"
          ]
        },
        {
          "output_type": "stream",
          "name": "stderr",
          "text": [
            "100%|██████████| 61/61 [00:56<00:00,  1.08it/s, train_loss=0.174]\n",
            "100%|██████████| 7/7 [00:02<00:00,  3.37it/s]\n"
          ]
        },
        {
          "output_type": "stream",
          "name": "stdout",
          "text": [
            "Epoch 14 — valid loss: 0.2091\n"
          ]
        },
        {
          "output_type": "stream",
          "name": "stderr",
          "text": [
            "100%|██████████| 61/61 [00:59<00:00,  1.03it/s, train_loss=0.143]\n",
            "100%|██████████| 7/7 [00:02<00:00,  3.26it/s]\n"
          ]
        },
        {
          "output_type": "stream",
          "name": "stdout",
          "text": [
            "Epoch 15 — valid loss: 0.1135\n"
          ]
        },
        {
          "output_type": "stream",
          "name": "stderr",
          "text": [
            "100%|██████████| 61/61 [00:57<00:00,  1.06it/s, train_loss=0.123]\n",
            "100%|██████████| 7/7 [00:02<00:00,  2.99it/s]\n"
          ]
        },
        {
          "output_type": "stream",
          "name": "stdout",
          "text": [
            "Epoch 16 — valid loss: 0.1312\n"
          ]
        },
        {
          "output_type": "stream",
          "name": "stderr",
          "text": [
            "100%|██████████| 61/61 [00:55<00:00,  1.10it/s, train_loss=0.108]\n",
            "100%|██████████| 7/7 [00:02<00:00,  3.40it/s]\n"
          ]
        },
        {
          "output_type": "stream",
          "name": "stdout",
          "text": [
            "Epoch 17 — valid loss: 0.0858\n"
          ]
        },
        {
          "output_type": "stream",
          "name": "stderr",
          "text": [
            "100%|██████████| 61/61 [00:54<00:00,  1.11it/s, train_loss=0.0872]\n",
            "100%|██████████| 7/7 [00:02<00:00,  3.35it/s]\n"
          ]
        },
        {
          "output_type": "stream",
          "name": "stdout",
          "text": [
            "Epoch 18 — valid loss: 0.0650\n"
          ]
        },
        {
          "output_type": "stream",
          "name": "stderr",
          "text": [
            "100%|██████████| 61/61 [00:57<00:00,  1.06it/s, train_loss=0.0623]\n",
            "100%|██████████| 7/7 [00:02<00:00,  2.95it/s]\n"
          ]
        },
        {
          "output_type": "stream",
          "name": "stdout",
          "text": [
            "Epoch 19 — valid loss: 0.1079\n"
          ]
        },
        {
          "output_type": "display_data",
          "data": {
            "text/plain": [
              "<Figure size 640x480 with 1 Axes>"
            ],
            "image/png": "[encoded data removed]"
          },
          "metadata": {}
        }
      ],
      "source": [
        "# ==============================================================\n",
        "# 5. Model, training loop, and loss‑curve plot\n",
        "# ==============================================================\n",
        "\n",
        "import torch, matplotlib.pyplot as plt\n",
        "import speechbrain as sb\n",
        "from speechbrain.dataio.dataloader import SaveableDataLoader\n",
        "from speechbrain.dataio.encoder    import CategoricalEncoder\n",
        "from speechbrain.lobes.features    import Fbank\n",
        "from speechbrain.nnet.pooling      import StatisticsPooling\n",
        "import torch.nn.functional as F\n",
        "from speechbrain.dataio.batch import PaddedBatch   # already imported\n",
        "# --------------------------------------------------------------\n",
        "# Keys that match your JSON\n",
        "# --------------------------------------------------------------\n",
        "AUDIO_KEY = \"file_path\"\n",
        "TEXT_KEY  = \"words\"     # (unused here)\n",
        "SPK_KEY   = \"spkID\"\n",
        "\n",
        "# 1️⃣  Speaker‑ID encoder  --------------------------------------\n",
        "spk_encoder = CategoricalEncoder()\n",
        "spk_encoder.update_from_didataset(train_data, SPK_KEY)\n",
        "\n",
        "@sb.utils.data_pipeline.takes(SPK_KEY)          # SPK_KEY = \"spkID\"\n",
        "@sb.utils.data_pipeline.provides(\"spk_encoded\")\n",
        "def encode_spk(spk_id):\n",
        "    # shape [1]  int64  -> PaddedBatch stacks into [B,1] int64\n",
        "    return torch.tensor([spk_encoder.encode_label(spk_id)], dtype=torch.long)\n",
        "\n",
        "\n",
        "train_data.add_dynamic_item(encode_spk)\n",
        "valid_data.add_dynamic_item(encode_spk)\n",
        "\n",
        "train_data.set_output_keys([\"signal\", \"spk_encoded\"])\n",
        "valid_data.set_output_keys([\"signal\", \"spk_encoded\"])\n",
        "\n",
        "train_loader = SaveableDataLoader(\n",
        "    train_data,\n",
        "    batch_size=16,\n",
        "    shuffle=True,\n",
        "    collate_fn=PaddedBatch,    # ← restore this\n",
        "    drop_last=True,\n",
        ")\n",
        "valid_loader = SaveableDataLoader(\n",
        "    valid_data,\n",
        "    batch_size=16,\n",
        "    shuffle=False,\n",
        "    collate_fn=PaddedBatch,    # ← restore this\n",
        ")\n",
        "\n",
        "# 2️⃣  Network modules  -----------------------------------------\n",
        "N_MELS   = 40\n",
        "\n",
        "modules = {\n",
        "    \"features\" : Fbank(n_mels=N_MELS),              # handles list input\n",
        "    \"encoder\"  : torch.nn.Sequential(\n",
        "                    torch.nn.Linear(N_MELS, 256),\n",
        "                    torch.nn.ReLU()),\n",
        "    \"pooling\"  : StatisticsPooling(),               # → 512 (mean+std)\n",
        "    \"to_output\": torch.nn.Linear(512, len(spk_encoder)),\n",
        "}\n",
        "\n",
        "# 3️⃣  Brain subclass  ------------------------------------------\n",
        "class SimpleBrain(sb.Brain):\n",
        "    def __init__(self, modules, **kwargs):\n",
        "        super().__init__(modules, **kwargs)\n",
        "        self.train_loss, self.valid_loss = [], []\n",
        "\n",
        "    def compute_forward(self, batch, stage):\n",
        "        wavs, wav_lens = batch.signal.data, batch.signal.lengths\n",
        "\n",
        "        feats  = self.modules.features(wavs)              # [B, T, 40]\n",
        "        feats  = self.modules.encoder(feats)              # [B, T, 256]\n",
        "        feats  = self.modules.pooling(feats, wav_lens)    # [B, 1, 512]\n",
        "        feats  = feats.squeeze(1)                         # ← drop the 1‑dim  ➜ [B, 512]\n",
        "        logits = self.modules.to_output(feats)            # [B, 26]\n",
        "        return logits                                         # raw scores\n",
        "\n",
        "    def compute_objectives(self, predictions, batch, stage):\n",
        "        # --------------------------------------------------------\n",
        "        # 1)  Collapse the trailing dim that PaddedBatch introduces\n",
        "        # 2)  Cast to int64  (class indices)\n",
        "        # 3)  Move to the same device as predictions\n",
        "        # --------------------------------------------------------\n",
        "        target = (\n",
        "            batch.spk_encoded.data.squeeze(-1)          # [B]\n",
        "            .to(dtype=torch.long, device=predictions.device)\n",
        "        )\n",
        "\n",
        "\n",
        "        # Uncomment once to verify shape & dtype:\n",
        "        # if stage == sb.Stage.TRAIN and self.step == 0:\n",
        "        #     print(\"pred:\", predictions.shape, predictions.dtype)\n",
        "        #     print(\"tgt :\", target.shape, target.dtype)\n",
        "        return F.cross_entropy(predictions, target)\n",
        "\n",
        "\n",
        "    def on_stage_end(self, stage, stage_loss, epoch):\n",
        "        if stage == sb.Stage.TRAIN:\n",
        "            self.train_loss.append(stage_loss)\n",
        "        elif stage == sb.Stage.VALID:\n",
        "            self.valid_loss.append(stage_loss)\n",
        "            # 👈 print validation loss every epoch\n",
        "            print(f\"Epoch {epoch} — valid loss: {stage_loss:.4f}\")\n",
        "brain = SimpleBrain(modules, opt_class=lambda p: torch.optim.SGD(p, lr=0.01))\n",
        "\n",
        "# 4️⃣  Train -----------------------------------------------------\n",
        "brain.fit(range(20), train_loader, valid_loader)\n",
        "\n",
        "# 5️⃣  Plot loss curves -----------------------------------------\n",
        "plt.plot(brain.train_loss,  label=\"train\")\n",
        "plt.plot(brain.valid_loss,  label=\"valid\")\n",
        "plt.xlabel(\"epoch\"); plt.ylabel(\"loss\"); plt.legend()\n",
        "plt.title(\"SimpleBrain – speaker‑ID loss curves\")\n",
        "plt.grid(True)\n",
        "plt.show()\n"
      ]
    }
  ],
  "metadata": {
    "colab": {
      "provenance": [],
      "authorship_tag": "ABX9TyNMyRn7J1JbC8wRfQwLII13",
      "include_colab_link": true
    },
    "kernelspec": {
      "display_name": "Python 3",
      "name": "python3"
    },
    "language_info": {
      "name": "python"
    }
  },
  "nbformat": 4,
  "nbformat_minor": 0
}